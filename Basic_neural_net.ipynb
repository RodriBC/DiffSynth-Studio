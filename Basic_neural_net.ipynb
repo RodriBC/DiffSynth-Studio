{
  "nbformat": 4,
  "nbformat_minor": 0,
  "metadata": {
    "colab": {
      "provenance": [],
      "include_colab_link": true
    },
    "kernelspec": {
      "name": "python3",
      "display_name": "Python 3"
    },
    "language_info": {
      "name": "python"
    }
  },
  "cells": [
    {
      "cell_type": "markdown",
      "metadata": {
        "id": "view-in-github",
        "colab_type": "text"
      },
      "source": [
        "<a href=\"https://colab.research.google.com/github/RodriBC/DiffSynth-Studio/blob/main/Basic_neural_net.ipynb\" target=\"_parent\"><img src=\"https://colab.research.google.com/assets/colab-badge.svg\" alt=\"Open In Colab\"/></a>"
      ]
    },
    {
      "cell_type": "code",
      "execution_count": 2,
      "metadata": {
        "id": "jPNO-f61wUuQ"
      },
      "outputs": [],
      "source": [
        "import matplotlib.pyplot as plt\n",
        "import numpy as np\n",
        "\n",
        "np.set_printoptions(suppress=True, precision=4)\n",
        "\n",
        "X = np.array([[0, 0],\n",
        "              [0, 1],\n",
        "              [1, 0],\n",
        "              [1, 1]])\n",
        "\n",
        "y = np.array([[0],\n",
        "              [1],\n",
        "              [1],\n",
        "              [0]])\n",
        "\n",
        "w_11 = 20\n",
        "w_21 = 20\n",
        "w_12 = -20\n",
        "w_22 = -20\n",
        "\n",
        "b_1 = -10\n",
        "b_2 = 30\n",
        "\n",
        "w_1 = 20\n",
        "w_2 = 20\n",
        "b = -30"
      ]
    },
    {
      "cell_type": "code",
      "source": [
        "def sigmoid(z):\n",
        "    return 1 / (1 + np.exp(-z))"
      ],
      "metadata": {
        "id": "uIxmhHkZyRvT"
      },
      "execution_count": 3,
      "outputs": []
    },
    {
      "cell_type": "code",
      "source": [
        "z = np.arange(-10, 10.1, 0.1)\n",
        "plt.plot(z, sigmoid(z))"
      ],
      "metadata": {
        "id": "vW3UC2rCyVpU",
        "colab": {
          "base_uri": "https://localhost:8080/",
          "height": 447
        },
        "outputId": "a2bd161e-a568-468f-d72a-52a20e4c5abb"
      },
      "execution_count": 4,
      "outputs": [
        {
          "output_type": "execute_result",
          "data": {
            "text/plain": [
              "[<matplotlib.lines.Line2D at 0x7e9be29419d0>]"
            ]
          },
          "metadata": {},
          "execution_count": 4
        },
        {
          "output_type": "display_data",
          "data": {
            "text/plain": [
              "<Figure size 640x480 with 1 Axes>"
            ],
            "image/png": "[encoded data removed]"
          },
          "metadata": {}
        }
      ]
    },
    {
      "cell_type": "code",
      "source": [
        "def hidden_layer(x1, x2):\n",
        "    z1 = w_11 * x1 + w_21 * x2 + b_1 # Complete this line\n",
        "    z2 = w_12 * x1 + w_22 * x2 + b_2 # Complete this line\n",
        "    return sigmoid(z1), sigmoid(z2)"
      ],
      "metadata": {
        "id": "DT4R3XOfwooO"
      },
      "execution_count": 5,
      "outputs": []
    },
    {
      "cell_type": "code",
      "source": [
        "hidden_layer_values = [hidden_layer(x1, x2) for x1, x2 in zip(X[:, 0], X[:, 1])]\n",
        "hidden_layer_values"
      ],
      "metadata": {
        "id": "EdauycdTyK2v",
        "colab": {
          "base_uri": "https://localhost:8080/"
        },
        "outputId": "f65c9990-ab5a-45a8-d757-1b5e123ec7c6"
      },
      "execution_count": 6,
      "outputs": [
        {
          "output_type": "execute_result",
          "data": {
            "text/plain": [
              "[(np.float64(4.5397868702434395e-05), np.float64(0.9999999999999065)),\n",
              " (np.float64(0.9999546021312976), np.float64(0.9999546021312976)),\n",
              " (np.float64(0.9999546021312976), np.float64(0.9999546021312976)),\n",
              " (np.float64(0.9999999999999065), np.float64(4.5397868702434395e-05))]"
            ]
          },
          "metadata": {},
          "execution_count": 6
        }
      ]
    },
    {
      "cell_type": "code",
      "source": [
        "def output_layer(a1, a2):\n",
        "    z = w_1 * a1 + w_2 * a2 + b\n",
        "    return sigmoid(z)"
      ],
      "metadata": {
        "id": "ChXuDRsPyfk4"
      },
      "execution_count": 7,
      "outputs": []
    },
    {
      "cell_type": "code",
      "source": [
        "y_hat = np.array([output_layer(a1, a2) for a1, a2 in hidden_layer_values])\n",
        "y_hat"
      ],
      "metadata": {
        "id": "tnzO8X-vNqkZ",
        "colab": {
          "base_uri": "https://localhost:8080/"
        },
        "outputId": "105b9f9e-94cc-40d9-d08c-8a09f03d7f26"
      },
      "execution_count": 8,
      "outputs": [
        {
          "output_type": "execute_result",
          "data": {
            "text/plain": [
              "array([0., 1., 1., 0.])"
            ]
          },
          "metadata": {},
          "execution_count": 8
        }
      ]
    },
    {
      "cell_type": "code",
      "source": [
        "-np.mean(y * np.log(y_hat) + (1 - y) * np.log(1 - y_hat))"
      ],
      "metadata": {
        "colab": {
          "base_uri": "https://localhost:8080/"
        },
        "id": "w8B4dr-59JUY",
        "outputId": "b575f4af-5f73-4d54-ae91-9e5a8df36669"
      },
      "execution_count": 9,
      "outputs": [
        {
          "output_type": "execute_result",
          "data": {
            "text/plain": [
              "np.float64(4.999364492745304)"
            ]
          },
          "metadata": {},
          "execution_count": 9
        }
      ]
    }
  ]
}
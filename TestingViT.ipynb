{
  "nbformat": 4,
  "nbformat_minor": 0,
  "metadata": {
    "colab": {
      "provenance": [],
      "include_colab_link": true
    },
    "kernelspec": {
      "name": "python3",
      "display_name": "Python 3"
    },
    "language_info": {
      "name": "python"
    }
  },
  "cells": [
    {
      "cell_type": "markdown",
      "metadata": {
        "id": "view-in-github",
        "colab_type": "text"
      },
      "source": [
        "<a href=\"https://colab.research.google.com/github/RodriBC/DiffSynth-Studio/blob/main/TestingViT.ipynb\" target=\"_parent\"><img src=\"https://colab.research.google.com/assets/colab-badge.svg\" alt=\"Open In Colab\"/></a>"
      ]
    },
    {
      "cell_type": "markdown",
      "source": [
        "# Vision Transformers (ViTs) con PyTorch\n",
        "\n",
        "En este tutorial, aprenderás los conceptos básicos de los Vision Transformers (ViTs) y cómo implementarlos desde cero utilizando PyTorch.\n",
        "\n",
        "## ¿Qué es un Vision Transformer?\n",
        "\n",
        "Los Vision Transformers son una arquitectura basada en `Transformers`, originalmente diseñada para texto, pero adaptada para imágenes. En lugar de usar convoluciones, dividen la imagen en parches y procesan estos parches como una secuencia, similar a cómo se procesan las palabras en NLP.\n",
        "\n",
        "### Arquitectura básica:\n",
        "1. Dividir la imagen en parches\n",
        "2. Linealizar los parches y proyectarlos a un espacio de embedding\n",
        "3. Añadir embeddings de posición\n",
        "4. Pasar por capas Transformer\n",
        "5. Usar la salida del token [CLS] para clasificación"
      ],
      "metadata": {
        "id": "1HvaNjyq1_Vw"
      }
    },
    {
      "cell_type": "code",
      "execution_count": null,
      "metadata": {
        "id": "j3UqaMd_zxTc"
      },
      "outputs": [],
      "source": [
        "import torch\n",
        "import torch.nn as nn\n",
        "import torch.nn.functional as F\n",
        "import torchvision\n",
        "import torchvision.transforms as transforms\n",
        "from torch.utils.data import DataLoader\n",
        "import matplotlib.pyplot as plt\n",
        "from tqdm import tqdm"
      ]
    },
    {
      "cell_type": "code",
      "source": [
        "transform = transforms.Compose([\n",
        "    transforms.Resize((32, 32)),\n",
        "    transforms.ToTensor()\n",
        "])\n",
        "\n",
        "train_dataset = torchvision.datasets.CIFAR10(root='./data', train=True, download=True, transform=transform)\n",
        "test_dataset = torchvision.datasets.CIFAR10(root='./data', train=False, download=True, transform=transform)\n",
        "\n",
        "train_loader = DataLoader(train_dataset, batch_size=64, shuffle=True)\n",
        "test_loader = DataLoader(test_dataset, batch_size=64, shuffle=False)"
      ],
      "metadata": {
        "colab": {
          "base_uri": "https://localhost:8080/"
        },
        "id": "cMilyHCB2Ajt",
        "outputId": "139691a1-17ed-4925-fab7-6e36cfcf091f"
      },
      "execution_count": null,
      "outputs": [
        {
          "output_type": "stream",
          "name": "stderr",
          "text": [
            "100%|██████████| 170M/170M [00:03<00:00, 43.9MB/s]\n"
          ]
        }
      ]
    },
    {
      "cell_type": "code",
      "source": [
        "class PatchEmbedding(nn.Module):\n",
        "    def __init__(self, in_channels=3, patch_size=4, emb_size=128, img_size=32):\n",
        "        super().__init__()\n",
        "        self.patch_size = patch_size\n",
        "        self.proj = nn.Conv2d(in_channels, emb_size, kernel_size=patch_size, stride=patch_size)\n",
        "        self.cls_token = nn.Parameter(torch.randn(1, 1, emb_size))\n",
        "        self.pos_embedding = nn.Parameter(torch.randn(1, (img_size // patch_size) ** 2 + 1, emb_size))\n",
        "\n",
        "    def forward(self, x):\n",
        "        B = x.size(0)\n",
        "        x = self.proj(x).flatten(2).transpose(1, 2)  # B x num_patches x emb_size\n",
        "        cls_tokens = self.cls_token.expand(B, -1, -1)\n",
        "        x = torch.cat((cls_tokens, x), dim=1)\n",
        "        x = x + self.pos_embedding\n",
        "        return x\n",
        "\n",
        "\n",
        "class ViT(nn.Module):\n",
        "    def __init__(self, img_size=32, patch_size=4, emb_size=128, num_classes=10, depth=6, heads=4, mlp_dim=256):\n",
        "        super().__init__()\n",
        "        self.patch_embedding = PatchEmbedding(patch_size=patch_size, emb_size=emb_size, img_size=img_size)\n",
        "\n",
        "        encoder_layer = nn.TransformerEncoderLayer(d_model=emb_size, nhead=heads, dim_feedforward=mlp_dim)\n",
        "        self.transformer = nn.TransformerEncoder(encoder_layer, num_layers=depth)\n",
        "\n",
        "        self.mlp_head = nn.Sequential(\n",
        "            nn.LayerNorm(emb_size),\n",
        "            nn.Linear(emb_size, num_classes)\n",
        "        )\n",
        "\n",
        "    def forward(self, x):\n",
        "        x = self.patch_embedding(x)\n",
        "        x = self.transformer(x)\n",
        "        x = x[:, 0]  # token [CLS]\n",
        "        return self.mlp_head(x)\n"
      ],
      "metadata": {
        "id": "BLIHBxct2ORN"
      },
      "execution_count": null,
      "outputs": []
    },
    {
      "cell_type": "code",
      "source": [
        "device = torch.device('cuda' if torch.cuda.is_available() else 'cpu')\n",
        "model = ViT().to(device)\n",
        "criterion = nn.CrossEntropyLoss()\n",
        "optimizer = torch.optim.Adam(model.parameters(), lr=3e-4)\n",
        "\n",
        "def train(model, dataloader):\n",
        "    model.train()\n",
        "    running_loss = 0\n",
        "    for images, labels in tqdm(dataloader):\n",
        "        images, labels = images.to(device), labels.to(device)\n",
        "        optimizer.zero_grad()\n",
        "        outputs = model(images)\n",
        "        loss = criterion(outputs, labels)\n",
        "        loss.backward()\n",
        "        optimizer.step()\n",
        "        running_loss += loss.item()\n",
        "    return running_loss / len(dataloader)\n"
      ],
      "metadata": {
        "colab": {
          "base_uri": "https://localhost:8080/"
        },
        "id": "BHZwxO3n2b-V",
        "outputId": "cb453d2d-5d5c-451a-c97c-8da1b2af97de"
      },
      "execution_count": null,
      "outputs": [
        {
          "output_type": "stream",
          "name": "stderr",
          "text": [
            "/usr/local/lib/python3.11/dist-packages/torch/nn/modules/transformer.py:385: UserWarning: enable_nested_tensor is True, but self.use_nested_tensor is False because encoder_layer.self_attn.batch_first was not True(use batch_first for better inference performance)\n",
            "  warnings.warn(\n"
          ]
        }
      ]
    },
    {
      "cell_type": "code",
      "source": [
        "def evaluate(model, dataloader):\n",
        "    model.eval()\n",
        "    correct = total = 0\n",
        "    with torch.no_grad():\n",
        "        for images, labels in dataloader:\n",
        "            images, labels = images.to(device), labels.to(device)\n",
        "            outputs = model(images)\n",
        "            _, predicted = torch.max(outputs, 1)\n",
        "            total += labels.size(0)\n",
        "            correct += (predicted == labels).sum().item()\n",
        "    return correct / total\n"
      ],
      "metadata": {
        "id": "r1Y8iGKZ2hok"
      },
      "execution_count": null,
      "outputs": []
    },
    {
      "cell_type": "code",
      "source": [
        "for epoch in range(5):\n",
        "    loss = train(model, train_loader)\n",
        "    acc = evaluate(model, test_loader)\n",
        "    print(f\"Epoch {epoch+1} | Loss: {loss:.4f} | Test Accuracy: {acc*100:.2f}%\")\n"
      ],
      "metadata": {
        "colab": {
          "base_uri": "https://localhost:8080/"
        },
        "id": "n313la-12j0w",
        "outputId": "931b31d2-3783-4b58-8abd-77b47c704f5e"
      },
      "execution_count": null,
      "outputs": [
        {
          "output_type": "stream",
          "name": "stderr",
          "text": [
            " 79%|███████▉  | 616/782 [04:40<01:13,  2.27it/s]"
          ]
        }
      ]
    },
    {
      "cell_type": "code",
      "source": [
        "def visualize_predictions(model, dataloader, classes):\n",
        "    model.eval()\n",
        "    images, labels = next(iter(dataloader))\n",
        "    images = images.to(device)\n",
        "    outputs = model(images)\n",
        "    _, preds = torch.max(outputs, 1)\n",
        "\n",
        "    fig, axes = plt.subplots(1, 5, figsize=(15, 3))\n",
        "    for i in range(5):\n",
        "        img = images[i].cpu().permute(1, 2, 0)\n",
        "        axes[i].imshow(img)\n",
        "        axes[i].set_title(f\"Pred: {classes[preds[i]]}\")\n",
        "        axes[i].axis('off')\n",
        "    plt.show()\n",
        "\n",
        "classes = train_dataset.classes\n",
        "visualize_predictions(model, test_loader, classes)\n"
      ],
      "metadata": {
        "id": "kOGg7nkv3HRw"
      },
      "execution_count": null,
      "outputs": []
    }
  ]
}